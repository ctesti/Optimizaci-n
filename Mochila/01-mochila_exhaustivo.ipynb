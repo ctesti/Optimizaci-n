{
 "cells": [
  {
   "cell_type": "code",
   "execution_count": null,
   "metadata": {},
   "outputs": [],
   "source": [
    "import time"
   ]
  },
  {
   "cell_type": "code",
   "execution_count": null,
   "metadata": {},
   "outputs": [],
   "source": [
    "def load_data_mochila(filename):\n",
    "    f = open(filename, \"r\")\n",
    "    first = f.readline().split()\n",
    "    num_items = int(first[0])\n",
    "    max_capacity = int(first[1])\n",
    "    \n",
    "    items = []\n",
    "    for line in f:\n",
    "        l = line.split()\n",
    "        aux = []\n",
    "        for i in l:\n",
    "            aux.append(int(i))\n",
    "        items.append(aux)\n",
    "        \n",
    "    #print(items)\n",
    "    return num_items, max_capacity, items"
   ]
  },
  {
   "cell_type": "code",
   "execution_count": null,
   "metadata": {},
   "outputs": [],
   "source": [
    "def run_mochila_bt(num_items, max_capacity, items):\n",
    "    sol = []\n",
    "    weights = []\n",
    "    ben = []\n",
    "    for i in items:\n",
    "        ben.append(i[0])\n",
    "        weights.append(i[1])\n",
    "    \n",
    "    l, b = mochila_bt(sol, max_capacity, weights, ben)\n",
    "    \n",
    "    print(l, b)\n",
    "\n",
    "def mochila_bt(sol, rem_w, weights, ben):\n",
    "    k = len(sol)\n",
    "    n = len(weights)\n",
    "    if k == n: #Base case if there are no elements left\n",
    "        return sol, 0\n",
    "    \n",
    "    max_ben = 0\n",
    "    best_sol = sol[:] + [0]*(n-k)\n",
    "    \n",
    "    for i in range(k, n):\n",
    "        if weights[i] <= rem_w: #If the item fits in the knapsack\n",
    "            sol_new = sol[:] + [0]*(i-k) + [1] \n",
    "            best, ben_best = mochila_bt(sol_new, rem_w-weights[i], weights, ben) #Backtrack\n",
    "            if ben[i] + ben_best > max_ben:\n",
    "                max_ben = ben[i] + ben_best\n",
    "                best_sol = best\n",
    "                \n",
    "    return  best_sol, max_ben"
   ]
  },
  {
   "cell_type": "code",
   "execution_count": null,
   "metadata": {},
   "outputs": [],
   "source": [
    "def mochila(file):\n",
    "    num_items, max_capacity, items = load_data_mochila(\"01-inputs/\" + file)\n",
    "    run_mochila_bt(num_items, max_capacity, items)"
   ]
  },
  {
   "cell_type": "code",
   "execution_count": null,
   "metadata": {
    "scrolled": true
   },
   "outputs": [],
   "source": [
    "start_time = time.time()\n",
    "mochila(\"mochila_heavy_10.csv\")\n",
    "#mochila(\"mochila_heavy_15.csv\")\n",
    "#mochila(\"mochila_heavy_20.csv\")\n",
    "#mochila(\"mochila_light_10.csv\")\n",
    "#mochila(\"mochila_light_15.csv\")\n",
    "#mochila(\"mochila_light_20.csv\")\n",
    "print(\"--- %s seconds ---\" % (time.time() - start_time))"
   ]
  }
 ],
 "metadata": {
  "kernelspec": {
   "display_name": "Python 3",
   "language": "python",
   "name": "python3"
  },
  "language_info": {
   "codemirror_mode": {
    "name": "ipython",
    "version": 3
   },
   "file_extension": ".py",
   "mimetype": "text/x-python",
   "name": "python",
   "nbconvert_exporter": "python",
   "pygments_lexer": "ipython3",
   "version": "3.8.3"
  }
 },
 "nbformat": 4,
 "nbformat_minor": 4
}
