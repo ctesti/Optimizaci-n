{
 "cells": [
  {
   "cell_type": "code",
   "execution_count": 1,
   "metadata": {},
   "outputs": [],
   "source": [
    "import time"
   ]
  },
  {
   "cell_type": "code",
   "execution_count": 2,
   "metadata": {},
   "outputs": [],
   "source": [
    "def load_data_mochila(filename):\n",
    "    f = open(filename, \"r\")\n",
    "    first = f.readline().split()\n",
    "    num_items = int(first[0])\n",
    "    max_capacity = int(first[1])\n",
    "    \n",
    "    items = []\n",
    "    for line in f:\n",
    "        l = line.split()\n",
    "        aux = []\n",
    "        for i in l:\n",
    "            aux.append(int(i))\n",
    "        items.append(aux)\n",
    "        \n",
    "    #print(items)\n",
    "    return num_items, max_capacity, items"
   ]
  },
  {
   "cell_type": "code",
   "execution_count": 3,
   "metadata": {},
   "outputs": [],
   "source": [
    "def run_mochila_vor(num_items, max_capacity, items):\n",
    "    sol = []\n",
    "    weights = []\n",
    "    ben = []\n",
    "    for i in items:\n",
    "        ben.append(i[0])\n",
    "        weights.append(i[1])\n",
    "    l, b = mochila_vor(sol, max_capacity, weights, ben)\n",
    "    \n",
    "    print(l, b)\n",
    "\n",
    "def mochila_vor(sol, rem_w, weights, ben):\n",
    "    values = []\n",
    "    for x in range(len(weights)): #Get the value ratio from each item (benefit/weight)\n",
    "        aux = []\n",
    "        aux.append(x)\n",
    "        aux.append(ben[x]/weights[x])\n",
    "        values.append(aux)\n",
    "    values.sort(key=lambda tup: tup[1], reverse=True) #Sort the list in descending order\n",
    "\n",
    "    max_ben = 0\n",
    "    for i in range(len(values)):\n",
    "        item = values[i][0] #Get the current item's index\n",
    "        if weights[item] <= rem_w: #If it fits, include it in the knapsack\n",
    "            sol.append(item)\n",
    "            rem_w = rem_w - weights[item]\n",
    "            max_ben = max_ben + ben[item]\n",
    "            \n",
    "    return sol, max_ben\n",
    "    "
   ]
  },
  {
   "cell_type": "code",
   "execution_count": 4,
   "metadata": {},
   "outputs": [],
   "source": [
    "def mochila(file):\n",
    "    num_items, max_capacity, items = load_data_mochila(\"01-inputs/\" + file)\n",
    "    run_mochila_vor(num_items, max_capacity, items)"
   ]
  },
  {
   "cell_type": "code",
   "execution_count": 5,
   "metadata": {
    "scrolled": true
   },
   "outputs": [
    {
     "name": "stdout",
     "output_type": "stream",
     "text": [
      "[4, 8, 3, 2, 7, 9] 127\n",
      "--- 0.001994609832763672 seconds ---\n"
     ]
    }
   ],
   "source": [
    "start_time = time.time()\n",
    "mochila(\"mochila_heavy_10.csv\")\n",
    "#mochila(\"mochila_heavy_15.csv\")\n",
    "#mochila(\"mochila_heavy_20.csv\")\n",
    "#mochila(\"mochila_light_10.csv\")\n",
    "#mochila(\"mochila_light_15.csv\")\n",
    "#mochila(\"mochila_light_20.csv\")\n",
    "print(\"--- %s seconds ---\" % (time.time() - start_time))"
   ]
  },
  {
   "cell_type": "code",
   "execution_count": null,
   "metadata": {},
   "outputs": [],
   "source": []
  }
 ],
 "metadata": {
  "kernelspec": {
   "display_name": "Python 3",
   "language": "python",
   "name": "python3"
  },
  "language_info": {
   "codemirror_mode": {
    "name": "ipython",
    "version": 3
   },
   "file_extension": ".py",
   "mimetype": "text/x-python",
   "name": "python",
   "nbconvert_exporter": "python",
   "pygments_lexer": "ipython3",
   "version": "3.8.3"
  }
 },
 "nbformat": 4,
 "nbformat_minor": 4
}
