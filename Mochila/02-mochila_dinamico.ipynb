{
 "cells": [
  {
   "cell_type": "code",
   "execution_count": null,
   "metadata": {},
   "outputs": [],
   "source": [
    "import time"
   ]
  },
  {
   "cell_type": "code",
   "execution_count": null,
   "metadata": {},
   "outputs": [],
   "source": [
    "def load_data_mochila(filename):\n",
    "    f = open(filename, \"r\")\n",
    "    first = f.readline().split()\n",
    "    num_items = int(first[0])\n",
    "    max_capacity = int(first[1])\n",
    "    \n",
    "    items = []\n",
    "    for line in f:\n",
    "        l = line.split()\n",
    "        aux = []\n",
    "        for i in l:\n",
    "            aux.append(int(i))\n",
    "        items.append(aux)\n",
    "        \n",
    "    #print(items)\n",
    "    return num_items, max_capacity, items"
   ]
  },
  {
   "cell_type": "code",
   "execution_count": null,
   "metadata": {},
   "outputs": [],
   "source": [
    "def mochila(file):\n",
    "    num_items, max_capacity, items = load_data_mochila(\"02-inputs/\" + file)\n",
    "    run_mochila_DP(num_items, max_capacity, items)\n"
   ]
  },
  {
   "cell_type": "code",
   "execution_count": null,
   "metadata": {},
   "outputs": [],
   "source": [
    "def run_mochila_DP(num_items, max_capacity, items):\n",
    "    values = []\n",
    "    weights = []\n",
    "    for i in items:\n",
    "        # FOR WEIGHT-VALUE\n",
    "        #weights.append(i[0])\n",
    "        #values.append(i[1])\n",
    "        \n",
    "        # FOR VALUE-WEIGHT\n",
    "        values.append(i[0])\n",
    "        weights.append(i[1])\n",
    "    \n",
    "    table = mochila_DP(max_capacity, weights, values, num_items)\n",
    "    taken = get_taken_items(table, weights, max_capacity, num_items)\n",
    "    \n",
    "    #Modify list of taken objects to start from 1\n",
    "    taken_fromOne = [x+1 for x in [i for i in range(len(taken)) if taken[i] == 1]]\n",
    "    \n",
    "    #Get the capacity filled to obtain the best value\n",
    "    filled_capacity = 0\n",
    "    for x in taken_fromOne:\n",
    "        filled_capacity += items[x-1][1]\n",
    "      \n",
    "    print(\"Knapsack capacity: \" + str(max_capacity))\n",
    "    print(\"Capacity filled: \" + str(filled_capacity))\n",
    "    print(\"Value obtained: \" + str(table[num_items][max_capacity]))\n",
    "    print(\"Taking objects: \" + str(taken_fromOne))\n",
    "\n",
    "    \n",
    "#Function to solve the knapsack problem using dynamic programming\n",
    "def mochila_DP(capacity, weights, values, num_items): \n",
    "    K = [[0 for x in range(capacity + 1)] for x in range(num_items + 1)]\n",
    "    \n",
    "    for i in range(num_items + 1): \n",
    "        for w in range(capacity + 1): \n",
    "            if i == 0 or w == 0: \n",
    "                K[i][w] = 0\n",
    "            elif weights[i-1] <= w: \n",
    "                K[i][w] = max(values[i-1] + K[i-1][w-weights[i-1]],  K[i-1][w])\n",
    "            else:\n",
    "                K[i][w] = K[i-1][w]        \n",
    "    return K \n",
    "\n",
    "\n",
    "#Function to obtain the objects taken in the solution\n",
    "def get_taken_items(table, weights, capacity, num_items):\n",
    "    taken = [0 for x in range(num_items)]\n",
    "    j = capacity    \n",
    "\n",
    "    #traverse the array in reversed order\n",
    "    for i in reversed(range(num_items + 1)):\n",
    "        if j <=0: #We've reached the last taken item\n",
    "            break\n",
    "        if table[i][j] > table[i - 1][j]: \n",
    "            taken[i-1] = 1 #Flag the item as taken\n",
    "            j = j - weights[i-1] #Move to the left on the columns\n",
    "    \n",
    "    return taken"
   ]
  },
  {
   "cell_type": "code",
   "execution_count": null,
   "metadata": {
    "scrolled": true
   },
   "outputs": [],
   "source": [
    "start_time = time.time()\n",
    "#mochila(\"knapsack.csv\")\n",
    "#mochila(\"1DIV128WeightRange.txt\")\n",
    "#mochila(\"1DIV512WeightRange.txt\")\n",
    "#mochila(\"1DIV1024WeightRange.txt\")\n",
    "#mochila(\"UnbalancedWeightsI.txt\")\n",
    "mochila(\"UnbalancedWeightsII.txt\")\n",
    "print(\"--- %s seconds ---\" % (time.time() - start_time))"
   ]
  },
  {
   "cell_type": "code",
   "execution_count": null,
   "metadata": {},
   "outputs": [],
   "source": []
  }
 ],
 "metadata": {
  "kernelspec": {
   "display_name": "Python 3",
   "language": "python",
   "name": "python3"
  },
  "language_info": {
   "codemirror_mode": {
    "name": "ipython",
    "version": 3
   },
   "file_extension": ".py",
   "mimetype": "text/x-python",
   "name": "python",
   "nbconvert_exporter": "python",
   "pygments_lexer": "ipython3",
   "version": "3.8.3"
  }
 },
 "nbformat": 4,
 "nbformat_minor": 4
}
