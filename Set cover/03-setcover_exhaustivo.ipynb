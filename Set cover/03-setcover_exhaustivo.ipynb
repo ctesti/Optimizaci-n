{
 "cells": [
  {
   "cell_type": "code",
   "execution_count": 1,
   "metadata": {},
   "outputs": [],
   "source": [
    "import sys\n",
    "import itertools"
   ]
  },
  {
   "cell_type": "code",
   "execution_count": 2,
   "metadata": {},
   "outputs": [],
   "source": [
    "def load_data_setcover(filename):\n",
    "    f = open(filename, \"r\")\n",
    "    first = f.readline().split()\n",
    "    num_sets = int(first[0])\n",
    "    num_elems = int(first[1])\n",
    "    \n",
    "    sets = []\n",
    "    costs = []\n",
    "    for line in f:\n",
    "        l = line.split()\n",
    "        aux = []\n",
    "        costs.append(int(l[0]))\n",
    "        for i in range(1, len(l)):\n",
    "            aux.append(int(l[i]))\n",
    "        sets.append(set(aux))\n",
    "        \n",
    "    #print(items)\n",
    "    return num_sets, num_elems, sets, costs"
   ]
  },
  {
   "cell_type": "code",
   "execution_count": 3,
   "metadata": {},
   "outputs": [],
   "source": [
    "def get_covered(subset): #Concatenate all the covered elements by a subset\n",
    "    covered = set()\n",
    "    for s in subset:\n",
    "        covered = covered.union(s)\n",
    "    return covered"
   ]
  },
  {
   "cell_type": "code",
   "execution_count": 4,
   "metadata": {},
   "outputs": [],
   "source": [
    "def get_cost(sets, subset, costs): #Add up the costs of taking each set in a subset\n",
    "    total_cost = 0\n",
    "    for s in subset:\n",
    "        total_cost = total_cost + costs[sets.index(s)]\n",
    "    return total_cost"
   ]
  },
  {
   "cell_type": "code",
   "execution_count": 5,
   "metadata": {},
   "outputs": [],
   "source": [
    "def setcover_greedy(filename):\n",
    "    num_sets, num_elems, sets, costs = load_data_setcover(filename)\n",
    "    \n",
    "    objective_list = []\n",
    "    objective_list.extend(range(1, num_elems+1)) #The objective is to cover all the elements\n",
    "    objective = set(objective_list)\n",
    "\n",
    "    min_cost = sys.maxsize #We want to minimize the cost\n",
    "    best_sol = set()\n",
    "    \n",
    "    for L in range(0, num_sets+1):\n",
    "        for subset in itertools.combinations(sets, L): #Iterate over all the possible combinations of subsets\n",
    "            covered = get_covered(subset)\n",
    "            act_cost = 0\n",
    "            if covered==objective:\n",
    "                act_cost = get_cost(sets, subset, costs)\n",
    "                if act_cost < min_cost: #The actual solution is better than the previous best one\n",
    "                    min_cost = act_cost\n",
    "                    best_sol = subset\n",
    "    \n",
    "    list_sol = [] #List of taken sets, for legibility\n",
    "    for s in best_sol:\n",
    "        list_sol.append(sets.index(s))\n",
    "    \n",
    "    return min_cost, list_sol"
   ]
  },
  {
   "cell_type": "code",
   "execution_count": 6,
   "metadata": {},
   "outputs": [
    {
     "data": {
      "text/plain": [
       "(19, [0, 1, 4])"
      ]
     },
     "execution_count": 6,
     "metadata": {},
     "output_type": "execute_result"
    }
   ],
   "source": [
    "setcover_greedy(\"05-inputs/set_cover_5.txt\")"
   ]
  },
  {
   "cell_type": "code",
   "execution_count": null,
   "metadata": {},
   "outputs": [],
   "source": []
  }
 ],
 "metadata": {
  "kernelspec": {
   "display_name": "Python 3",
   "language": "python",
   "name": "python3"
  },
  "language_info": {
   "codemirror_mode": {
    "name": "ipython",
    "version": 3
   },
   "file_extension": ".py",
   "mimetype": "text/x-python",
   "name": "python",
   "nbconvert_exporter": "python",
   "pygments_lexer": "ipython3",
   "version": "3.8.3"
  }
 },
 "nbformat": 4,
 "nbformat_minor": 4
}
