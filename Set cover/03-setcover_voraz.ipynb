{
 "cells": [
  {
   "cell_type": "code",
   "execution_count": 1,
   "metadata": {},
   "outputs": [],
   "source": [
    "def load_data_setcover(filename):\n",
    "    f = open(filename, \"r\")\n",
    "    first = f.readline().split()\n",
    "    num_sets = int(first[0])\n",
    "    num_elems = int(first[1])\n",
    "    \n",
    "    sets = []\n",
    "    costs = []\n",
    "    for line in f:\n",
    "        l = line.split()\n",
    "        aux = []\n",
    "        costs.append(int(l[0]))\n",
    "        for i in range(1, len(l)):\n",
    "            aux.append(int(l[i]))\n",
    "        sets.append(set(aux))\n",
    "        \n",
    "    #print(items)\n",
    "    return num_sets, num_elems, sets, costs"
   ]
  },
  {
   "cell_type": "code",
   "execution_count": 2,
   "metadata": {},
   "outputs": [],
   "source": [
    "def cost_effectiveness(sets, costs, covered): #Compute the cost-effectiveness ratio for all the sets\n",
    "    cost_eff = []\n",
    "    for s in sets:\n",
    "        new_sets = len(s.difference(covered)) #get the number of items in the set that are not already covered\n",
    "        if new_sets != 0:\n",
    "            cost_eff.append(costs[sets.index(s)]/new_sets) #compute the cost/new_sets ratio\n",
    "\n",
    "    return cost_eff"
   ]
  },
  {
   "cell_type": "code",
   "execution_count": 3,
   "metadata": {},
   "outputs": [],
   "source": [
    "def setcover_voraz(filename):\n",
    "    num_sets, num_elems, sets, costs = load_data_setcover(filename)\n",
    "    \n",
    "    objective_list = []\n",
    "    objective_list.extend(range(1, num_elems+1)) #The objective is to cover all the elements\n",
    "    objective = set(objective_list)\n",
    "    \n",
    "    covered = set()\n",
    "    sets_aux = sets.copy() #Copy of the sets to see which ones are taken\n",
    "    sets_taken = []\n",
    "    total_cost = 0\n",
    "    while (covered != objective):\n",
    "        cost_eff = cost_effectiveness(sets, costs, covered)\n",
    "        add = cost_eff.index(min(cost_eff)) #Get the set with the lowest ratio\n",
    "        covered = covered.union(sets[add]) #Add the sets\n",
    "        total_cost = total_cost + costs[add] #Add up the cost\n",
    "        sets_taken.append(sets_aux.index(sets[add])) #Log the taken sets\n",
    "        \n",
    "        cost_eff.pop(add) #Remove the taken set from the lists\n",
    "        sets.pop(add)\n",
    "        costs.pop(add)\n",
    "    \n",
    "    sets_taken.sort() #Sort the list for legibility\n",
    "    \n",
    "    return total_cost, sets_taken"
   ]
  },
  {
   "cell_type": "code",
   "execution_count": 4,
   "metadata": {},
   "outputs": [
    {
     "data": {
      "text/plain": [
       "(19, [0, 1, 4])"
      ]
     },
     "execution_count": 4,
     "metadata": {},
     "output_type": "execute_result"
    }
   ],
   "source": [
    "setcover_voraz(\"05-inputs/set_cover_5.txt\")"
   ]
  },
  {
   "cell_type": "code",
   "execution_count": null,
   "metadata": {},
   "outputs": [],
   "source": []
  }
 ],
 "metadata": {
  "kernelspec": {
   "display_name": "Python 3",
   "language": "python",
   "name": "python3"
  },
  "language_info": {
   "codemirror_mode": {
    "name": "ipython",
    "version": 3
   },
   "file_extension": ".py",
   "mimetype": "text/x-python",
   "name": "python",
   "nbconvert_exporter": "python",
   "pygments_lexer": "ipython3",
   "version": "3.8.3"
  }
 },
 "nbformat": 4,
 "nbformat_minor": 4
}
